{
 "cells": [
  {
   "cell_type": "code",
   "execution_count": 1,
   "metadata": {},
   "outputs": [],
   "source": [
    "import scipy\n",
    "import numpy as np\n",
    "import random\n",
    "import math\n",
    "import matplotlib.pyplot as plt\n",
    "import IPython.display as ipd\n",
    "import glob, os\n",
    "import librosa\n",
    "import librosa.display\n",
    "import pretty_midi"
   ]
  },
  {
   "cell_type": "code",
   "execution_count": 34,
   "metadata": {},
   "outputs": [
    {
     "name": "stdout",
     "output_type": "stream",
     "text": [
      "bach_prelude_01\n",
      "bach_toccata\n",
      "beethoven_fur_elise\n",
      "beethoven_pathetique\n",
      "chopin-prelude_15\n",
      "chopin_funeral_march\n",
      "chopin_prelude_07\n",
      "handel\n",
      "haydn\n",
      "liszt_liebestraum\n",
      "mozart_alla_turca\n",
      "mozart_minuet_k2\n",
      "mozart_piano_concerto_21\n",
      "rachmaninoff_prelude_in_c_sharp_minor\n",
      "rachmaninoff_prelude_in_g_minor\n"
     ]
    }
   ],
   "source": [
    "os.chdir(\"%s\\source\\piano_midi\" % os.getcwd())\n",
    "for file in glob.glob(\"*.mid\"):\n",
    "    pm = pretty_midi.PrettyMIDI(file)\n",
    "    print(file.split('.mid')[0]) # List the midi file names\n",
    "os.chdir(\"..\\..\")"
   ]
  },
  {
   "cell_type": "code",
   "execution_count": 28,
   "metadata": {},
   "outputs": [
    {
     "name": "stdout",
     "output_type": "stream",
     "text": [
      "Working on bach_prelude_01...\n",
      "Working on bach_toccata...\n",
      "Working on beethoven_fur_elise...\n",
      "Working on beethoven_pathetique...\n",
      "Working on chopin-prelude_15...\n",
      "Working on chopin_funeral_march...\n",
      "Working on chopin_prelude_07...\n",
      "Working on handel...\n",
      "Working on haydn...\n",
      "Working on liszt_liebestraum...\n",
      "Working on mozart_alla_turca...\n",
      "Working on mozart_minuet_k2...\n",
      "Working on mozart_piano_concerto_21...\n",
      "Working on rachmaninoff_prelude_in_c_sharp_minor...\n",
      "Working on rachmaninoff_prelude_in_g_minor...\n",
      "Done monophonisizing!\n"
     ]
    }
   ],
   "source": [
    "out_midis = []\n",
    "out_names = []\n",
    "\n",
    "os.chdir(\"%s\\source\\piano_midi\" % os.getcwd())\n",
    "for file in glob.glob(\"*.mid\"):\n",
    "    pm = pretty_midi.PrettyMIDI(file)\n",
    "    filename = file.split('.mid')[0]\n",
    "    print(\"Working on %s...\" % filename)\n",
    "    \n",
    "    piano_midi = pretty_midi.PrettyMIDI() # Create the new monophonic midi file\n",
    "    piano_program = pretty_midi.instrument_name_to_program('Acoustic Grand Piano')\n",
    "    piano = pretty_midi.Instrument(program=piano_program) # Create a piano instrument\n",
    "    \n",
    "    pitch, onset = (-1, -1)\n",
    "    for note in pm.instruments[0].notes: # Append the notes to the piano instrument\n",
    "        if(note.start == onset): # If two notes start at the same time\n",
    "            if(note.pitch > pitch):\n",
    "                piano.notes[len(piano.notes)-1] = note # Select the note with the higher pitch\n",
    "            else:\n",
    "                continue\n",
    "        else:\n",
    "            piano.notes.append(note)\n",
    "        pitch = note.pitch\n",
    "        onset = note.start\n",
    "        \n",
    "    for pb in pm.instruments[0].pitch_bends: # Append pitch bend events to the instrument\n",
    "        piano.pitch_bends.append(pb)\n",
    "    for cc in pm.instruments[0].control_changes: # Append control changes to the instrument\n",
    "        piano.control_changes.append(cc)\n",
    "        \n",
    "    piano_midi.instruments.append(piano) # Append the piano instrument to the midi file\n",
    "    out_midis.append(piano_midi)\n",
    "    out_names.append(\"mono-%s.mid\" % filename)\n",
    "\n",
    "os.chdir(\"..\\piano_mono_midi\") # Switch to the monophonic midi folder directory   \n",
    "for j, midi in enumerate(out_midis):\n",
    "    midi.write(out_names[j]) # Save the new monophonic midi files\n",
    "os.chdir(\"..\\..\")\n",
    "print(\"Done monophonisizing!\")"
   ]
  }
 ],
 "metadata": {
  "kernelspec": {
   "display_name": "Python 3",
   "language": "python",
   "name": "python3"
  },
  "language_info": {
   "codemirror_mode": {
    "name": "ipython",
    "version": 3
   },
   "file_extension": ".py",
   "mimetype": "text/x-python",
   "name": "python",
   "nbconvert_exporter": "python",
   "pygments_lexer": "ipython3",
   "version": "3.6.0"
  }
 },
 "nbformat": 4,
 "nbformat_minor": 2
}
